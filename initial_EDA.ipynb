{
 "cells": [
  {
   "cell_type": "code",
   "execution_count": 1,
   "id": "600ccbe8",
   "metadata": {},
   "outputs": [],
   "source": [
    "import numpy as np\n",
    "import pandas as pd\n",
    "import seaborn as sns\n",
    "import matplotlib.pyplot as plt"
   ]
  },
  {
   "cell_type": "code",
   "execution_count": 2,
   "id": "60425156",
   "metadata": {},
   "outputs": [
    {
     "data": {
      "text/plain": [
       "(404290, 6)"
      ]
     },
     "execution_count": 2,
     "metadata": {},
     "output_type": "execute_result"
    }
   ],
   "source": [
    "df = pd.read_csv(\"train.csv\")\n",
    "df.shape"
   ]
  },
  {
   "cell_type": "code",
   "execution_count": 3,
   "id": "5a3d86b9",
   "metadata": {},
   "outputs": [
    {
     "data": {
      "text/html": [
       "<div>\n",
       "<style scoped>\n",
       "    .dataframe tbody tr th:only-of-type {\n",
       "        vertical-align: middle;\n",
       "    }\n",
       "\n",
       "    .dataframe tbody tr th {\n",
       "        vertical-align: top;\n",
       "    }\n",
       "\n",
       "    .dataframe thead th {\n",
       "        text-align: right;\n",
       "    }\n",
       "</style>\n",
       "<table border=\"1\" class=\"dataframe\">\n",
       "  <thead>\n",
       "    <tr style=\"text-align: right;\">\n",
       "      <th></th>\n",
       "      <th>id</th>\n",
       "      <th>qid1</th>\n",
       "      <th>qid2</th>\n",
       "      <th>question1</th>\n",
       "      <th>question2</th>\n",
       "      <th>is_duplicate</th>\n",
       "    </tr>\n",
       "  </thead>\n",
       "  <tbody>\n",
       "    <tr>\n",
       "      <th>194112</th>\n",
       "      <td>194112</td>\n",
       "      <td>294213</td>\n",
       "      <td>262090</td>\n",
       "      <td>Can a dead car battery be completely recharged...</td>\n",
       "      <td>Why won't my car start with a jump?</td>\n",
       "      <td>0</td>\n",
       "    </tr>\n",
       "    <tr>\n",
       "      <th>12490</th>\n",
       "      <td>12490</td>\n",
       "      <td>24061</td>\n",
       "      <td>24062</td>\n",
       "      <td>How I can I propose for a gay sex?</td>\n",
       "      <td>Do you think a man should propose first?</td>\n",
       "      <td>0</td>\n",
       "    </tr>\n",
       "    <tr>\n",
       "      <th>308021</th>\n",
       "      <td>308021</td>\n",
       "      <td>123810</td>\n",
       "      <td>92888</td>\n",
       "      <td>As a novice writer, what are some tips to get ...</td>\n",
       "      <td>What's the best way, in your opinion, to get o...</td>\n",
       "      <td>1</td>\n",
       "    </tr>\n",
       "    <tr>\n",
       "      <th>303340</th>\n",
       "      <td>303340</td>\n",
       "      <td>392350</td>\n",
       "      <td>426461</td>\n",
       "      <td>Which Indian colleges admit students on the ba...</td>\n",
       "      <td>Do colleges keep SAT/ACT scores and high schoo...</td>\n",
       "      <td>0</td>\n",
       "    </tr>\n",
       "    <tr>\n",
       "      <th>227447</th>\n",
       "      <td>227447</td>\n",
       "      <td>6617</td>\n",
       "      <td>152375</td>\n",
       "      <td>Is there a working Nintendo 3DS emulator for P...</td>\n",
       "      <td>When is a proper 3DS emulator going to be laun...</td>\n",
       "      <td>1</td>\n",
       "    </tr>\n",
       "    <tr>\n",
       "      <th>286647</th>\n",
       "      <td>286647</td>\n",
       "      <td>334451</td>\n",
       "      <td>407273</td>\n",
       "      <td>What is the best personality test?</td>\n",
       "      <td>What are some good personality tests?</td>\n",
       "      <td>1</td>\n",
       "    </tr>\n",
       "    <tr>\n",
       "      <th>401342</th>\n",
       "      <td>401342</td>\n",
       "      <td>346367</td>\n",
       "      <td>534730</td>\n",
       "      <td>How can I become a sovereign citizen?</td>\n",
       "      <td>What is the sovereign citizen movement?</td>\n",
       "      <td>0</td>\n",
       "    </tr>\n",
       "    <tr>\n",
       "      <th>92289</th>\n",
       "      <td>92289</td>\n",
       "      <td>154521</td>\n",
       "      <td>154522</td>\n",
       "      <td>What are some fun things to do for my 17th bir...</td>\n",
       "      <td>Which Indian player got medal in iaaf world ch...</td>\n",
       "      <td>0</td>\n",
       "    </tr>\n",
       "    <tr>\n",
       "      <th>278522</th>\n",
       "      <td>278522</td>\n",
       "      <td>397805</td>\n",
       "      <td>353773</td>\n",
       "      <td>How was SSC CGL Tier 2 exam?</td>\n",
       "      <td>What is your review of the SSC CGL tier 2 2016...</td>\n",
       "      <td>1</td>\n",
       "    </tr>\n",
       "    <tr>\n",
       "      <th>278543</th>\n",
       "      <td>278543</td>\n",
       "      <td>397837</td>\n",
       "      <td>338905</td>\n",
       "      <td>Is it possible for a deaf person to find a hea...</td>\n",
       "      <td>What does a deaf person hear?</td>\n",
       "      <td>0</td>\n",
       "    </tr>\n",
       "  </tbody>\n",
       "</table>\n",
       "</div>"
      ],
      "text/plain": [
       "            id    qid1    qid2  \\\n",
       "194112  194112  294213  262090   \n",
       "12490    12490   24061   24062   \n",
       "308021  308021  123810   92888   \n",
       "303340  303340  392350  426461   \n",
       "227447  227447    6617  152375   \n",
       "286647  286647  334451  407273   \n",
       "401342  401342  346367  534730   \n",
       "92289    92289  154521  154522   \n",
       "278522  278522  397805  353773   \n",
       "278543  278543  397837  338905   \n",
       "\n",
       "                                                question1  \\\n",
       "194112  Can a dead car battery be completely recharged...   \n",
       "12490                  How I can I propose for a gay sex?   \n",
       "308021  As a novice writer, what are some tips to get ...   \n",
       "303340  Which Indian colleges admit students on the ba...   \n",
       "227447  Is there a working Nintendo 3DS emulator for P...   \n",
       "286647                 What is the best personality test?   \n",
       "401342              How can I become a sovereign citizen?   \n",
       "92289   What are some fun things to do for my 17th bir...   \n",
       "278522                       How was SSC CGL Tier 2 exam?   \n",
       "278543  Is it possible for a deaf person to find a hea...   \n",
       "\n",
       "                                                question2  is_duplicate  \n",
       "194112                Why won't my car start with a jump?             0  \n",
       "12490            Do you think a man should propose first?             0  \n",
       "308021  What's the best way, in your opinion, to get o...             1  \n",
       "303340  Do colleges keep SAT/ACT scores and high schoo...             0  \n",
       "227447  When is a proper 3DS emulator going to be laun...             1  \n",
       "286647              What are some good personality tests?             1  \n",
       "401342            What is the sovereign citizen movement?             0  \n",
       "92289   Which Indian player got medal in iaaf world ch...             0  \n",
       "278522  What is your review of the SSC CGL tier 2 2016...             1  \n",
       "278543                      What does a deaf person hear?             0  "
      ]
     },
     "execution_count": 3,
     "metadata": {},
     "output_type": "execute_result"
    }
   ],
   "source": [
    "df.sample(10)"
   ]
  },
  {
   "cell_type": "code",
   "execution_count": 4,
   "id": "37b00141",
   "metadata": {},
   "outputs": [
    {
     "name": "stdout",
     "output_type": "stream",
     "text": [
      "<class 'pandas.core.frame.DataFrame'>\n",
      "RangeIndex: 404290 entries, 0 to 404289\n",
      "Data columns (total 6 columns):\n",
      " #   Column        Non-Null Count   Dtype \n",
      "---  ------        --------------   ----- \n",
      " 0   id            404290 non-null  int64 \n",
      " 1   qid1          404290 non-null  int64 \n",
      " 2   qid2          404290 non-null  int64 \n",
      " 3   question1     404289 non-null  object\n",
      " 4   question2     404288 non-null  object\n",
      " 5   is_duplicate  404290 non-null  int64 \n",
      "dtypes: int64(4), object(2)\n",
      "memory usage: 18.5+ MB\n"
     ]
    }
   ],
   "source": [
    "df.info()"
   ]
  },
  {
   "cell_type": "code",
   "execution_count": 5,
   "id": "c5b82789",
   "metadata": {},
   "outputs": [
    {
     "data": {
      "text/plain": [
       "id              0\n",
       "qid1            0\n",
       "qid2            0\n",
       "question1       1\n",
       "question2       2\n",
       "is_duplicate    0\n",
       "dtype: int64"
      ]
     },
     "execution_count": 5,
     "metadata": {},
     "output_type": "execute_result"
    }
   ],
   "source": [
    "# missing values\n",
    "df.isnull().sum()"
   ]
  },
  {
   "cell_type": "code",
   "execution_count": 6,
   "id": "e704abaf",
   "metadata": {},
   "outputs": [
    {
     "data": {
      "text/plain": [
       "0"
      ]
     },
     "execution_count": 6,
     "metadata": {},
     "output_type": "execute_result"
    }
   ],
   "source": [
    "# duplicate rows\n",
    "df.duplicated().sum()"
   ]
  },
  {
   "cell_type": "code",
   "execution_count": 7,
   "id": "3f9bd6af",
   "metadata": {},
   "outputs": [
    {
     "name": "stdout",
     "output_type": "stream",
     "text": [
      "0    255027\n",
      "1    149263\n",
      "Name: is_duplicate, dtype: int64\n",
      "0    63.080215\n",
      "1    36.919785\n",
      "Name: is_duplicate, dtype: float64\n"
     ]
    },
    {
     "data": {
      "text/plain": [
       "<AxesSubplot:>"
      ]
     },
     "execution_count": 7,
     "metadata": {},
     "output_type": "execute_result"
    },
    {
     "data": {
      "image/png": "[encoded data removed]",
      "text/plain": [
       "<Figure size 432x288 with 1 Axes>"
      ]
     },
     "metadata": {
      "needs_background": "light"
     },
     "output_type": "display_data"
    }
   ],
   "source": [
    "# Distribution of duplicate and non-duplicate questions\n",
    "\n",
    "print(df['is_duplicate'].value_counts())\n",
    "print((df['is_duplicate'].value_counts()/df['is_duplicate'].count())*100)\n",
    "df['is_duplicate'].value_counts().plot(kind='bar')"
   ]
  },
  {
   "cell_type": "code",
   "execution_count": 8,
   "id": "788d2d08",
   "metadata": {},
   "outputs": [
    {
     "name": "stdout",
     "output_type": "stream",
     "text": [
      "Number of unique questions 537933\n",
      "Number of questions getting repeated 111780\n"
     ]
    }
   ],
   "source": [
    "# Repeated questions\n",
    "\n",
    "qid = pd.Series(df['qid1'].tolist() + df['qid2'].tolist())\n",
    "print('Number of unique questions',np.unique(qid).shape[0])\n",
    "x = qid.value_counts()>1\n",
    "print('Number of questions getting repeated',x[x].shape[0])"
   ]
  },
  {
   "cell_type": "code",
   "execution_count": 9,
   "id": "2fa5bb83",
   "metadata": {},
   "outputs": [
    {
     "data": {
      "image/png": "[encoded data removed]",
      "text/plain": [
       "<Figure size 432x288 with 1 Axes>"
      ]
     },
     "metadata": {
      "needs_background": "light"
     },
     "output_type": "display_data"
    }
   ],
   "source": [
    "# Repeated questions histogram\n",
    "\n",
    "plt.hist(qid.value_counts().values,bins=160)\n",
    "plt.yscale('log')\n",
    "plt.show()"
   ]
  },
  {
   "cell_type": "code",
   "execution_count": null,
   "id": "f9573e2f",
   "metadata": {},
   "outputs": [],
   "source": []
  }
 ],
 "metadata": {
  "kernelspec": {
   "display_name": "Python 3.9.12 64-bit (microsoft store)",
   "language": "python",
   "name": "python3"
  },
  "language_info": {
   "codemirror_mode": {
    "name": "ipython",
    "version": 3
   },
   "file_extension": ".py",
   "mimetype": "text/x-python",
   "name": "python",
   "nbconvert_exporter": "python",
   "pygments_lexer": "ipython3",
   "version": "3.9.12"
  },
  "vscode": {
   "interpreter": {
    "hash": "43a24ecce625020f2d6631fb4cfb730bba30d877e9fe9ec2e0d85cb5a52a2b64"
   }
  }
 },
 "nbformat": 4,
 "nbformat_minor": 5
}
